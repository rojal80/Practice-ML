{
 "cells": [
  {
   "cell_type": "markdown",
   "id": "6cc5893f-30eb-4047-8f57-157f20a952a6",
   "metadata": {},
   "source": [
    "\n",
    "import pandas as pd\n",
    "import numpy as np\n",
    "import matplotlib.pyplot as plt\n",
    "%matplotlib inline % \n"
   ]
  },
  {
   "cell_type": "markdown",
   "id": "22aa0305-5688-489c-bb72-759c7a8e0e30",
   "metadata": {},
   "source": [
    "# Getting our data ready to be used with machine learning\n",
    "Three main things we have to do:\n",
    "1. Split the data into  features and labels(usually 'x' and 'y').\n",
    "2. Filling(also called inputing) or disregarding missing values\n",
    "3.  Converting non-numeric values to numeric values(also called feature encoding)"
   ]
  }
 ],
 "metadata": {
  "kernelspec": {
   "display_name": "Python 3 (ipykernel)",
   "language": "python",
   "name": "python3"
  },
  "language_info": {
   "codemirror_mode": {
    "name": "ipython",
    "version": 3
   },
   "file_extension": ".py",
   "mimetype": "text/x-python",
   "name": "python",
   "nbconvert_exporter": "python",
   "pygments_lexer": "ipython3",
   "version": "3.12.3"
  }
 },
 "nbformat": 4,
 "nbformat_minor": 5
}
